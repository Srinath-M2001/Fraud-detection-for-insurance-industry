{
 "cells": [
  {
   "cell_type": "code",
   "execution_count": 1,
   "id": "e9e0b4f4-1241-4862-9216-7736af9798d5",
   "metadata": {},
   "outputs": [],
   "source": [
    "import pandas as pd\n",
    "import numpy as np\n",
    "from sklearn.model_selection import train_test_split\n",
    "from sklearn.preprocessing import LabelEncoder\n",
    "from sklearn.ensemble import RandomForestClassifier\n",
    "from sklearn.metrics import classification_report, accuracy_score\n",
    "import warnings\n",
    "warnings.filterwarnings(\"ignore\")"
   ]
  },
  {
   "cell_type": "code",
   "execution_count": 7,
   "id": "33f5fbb5-d3e9-40d1-a334-867fe033c34b",
   "metadata": {},
   "outputs": [],
   "source": [
    "try:\n",
    "    claims = pd.read_csv(\"training dataset/Train-1542865627584.csv\")\n",
    "    inpatient = pd.read_csv(\"training dataset/Train_Inpatientdata-1542865627584.csv\")\n",
    "    outpatient = pd.read_csv(\"training dataset/Train_Outpatientdata-1542865627584.csv\", engine='python')\n",
    "    beneficiary = pd.read_csv(\"training dataset/Train_Beneficiarydata-1542865627584.csv\")\n",
    "except Exception as e:\n",
    "    print(f\"Error loading data: {e}\")\n",
    "    exit()"
   ]
  },
  {
   "cell_type": "code",
   "execution_count": 8,
   "id": "b689fbe7-364a-49ed-bfff-550338f8d7e1",
   "metadata": {},
   "outputs": [],
   "source": [
    "\n",
    "inpatient['Type'] = 'Inpatient'\n",
    "outpatient['Type'] = 'Outpatient'\n",
    "claims_data = pd.concat([inpatient, outpatient])\n",
    "\n",
    "# Merge claims with beneficiary and fraud labels\n",
    "merged = claims_data.merge(beneficiary, on=\"BeneID\", how=\"left\")\n",
    "merged = merged.merge(claims, on=\"Provider\", how=\"left\")\n",
    "\n",
    "\n",
    "merged = merged.drop(['ClaimID', 'BeneID', 'ClaimStartDt', 'ClaimEndDt',\n",
    "                      'AdmissionDt', 'DOB', 'DOD', 'AttendingPhysician',\n",
    "                      'OperatingPhysician', 'OtherPhysician'], axis=1, errors='ignore')\n",
    "\n",
    "merged.fillna(0, inplace=True)"
   ]
  },
  {
   "cell_type": "code",
   "execution_count": 9,
   "id": "339fcf53-96a6-4a14-9266-2f3abdea0a7b",
   "metadata": {},
   "outputs": [
    {
     "name": "stdout",
     "output_type": "stream",
     "text": [
      "Unique values in 'PotentialFraud' after fillna: ['1' '0']\n",
      "Unique values in y after mapping: [1 0]\n",
      "Unmapped values in 'PotentialFraud': []\n"
     ]
    }
   ],
   "source": [
    "# Encode categorical columns\n",
    "le = LabelEncoder()\n",
    "for col in merged.select_dtypes(include='object').columns:\n",
    "    merged[col] = le.fit_transform(merged[col].astype(str))\n",
    "\n",
    "merged['PotentialFraud'] = merged['PotentialFraud'].astype(str)\n",
    "\n",
    "\n",
    "merged['PotentialFraud'].fillna('No', inplace=True) \n",
    "\n",
    "print(\"Unique values in 'PotentialFraud' after fillna:\", merged['PotentialFraud'].unique())\n",
    "\n",
    "y = merged[\"PotentialFraud\"].map({'Yes': 1, 'No': 0, '1': 1, '0': 0})\n",
    "\n",
    "\n",
    "print(\"Unique values in y after mapping:\", y.unique())\n",
    "\n",
    "\n",
    "unmapped_fraud = merged[y.isna()]['PotentialFraud'].unique()\n",
    "print(\"Unmapped values in 'PotentialFraud':\", unmapped_fraud)\n",
    "\n",
    "\n",
    "X = merged.drop(\"PotentialFraud\", axis=1)\n"
   ]
  },
  {
   "cell_type": "code",
   "execution_count": 10,
   "id": "d543e2c3-4e28-4bd3-a4bc-7f8f4cc1b9b3",
   "metadata": {},
   "outputs": [
    {
     "name": "stdout",
     "output_type": "stream",
     "text": [
      "Classification Report:\n",
      "               precision    recall  f1-score   support\n",
      "\n",
      "           0       0.85      0.93      0.89     68983\n",
      "           1       0.87      0.73      0.80     42660\n",
      "\n",
      "    accuracy                           0.86    111643\n",
      "   macro avg       0.86      0.83      0.84    111643\n",
      "weighted avg       0.86      0.86      0.85    111643\n",
      "\n",
      "Accuracy Score: 0.856282973406304\n",
      "Submission file saved successfully.\n"
     ]
    }
   ],
   "source": [
    "X_train, X_test, y_train, y_test = train_test_split(X, y, test_size=0.2, random_state=42)\n",
    "\n",
    "\n",
    "model = RandomForestClassifier(random_state=42)\n",
    "model.fit(X_train, y_train)\n",
    "\n",
    "\n",
    "y_pred = model.predict(X_test)\n",
    "print(\"Classification Report:\\n\", classification_report(y_test, y_pred))\n",
    "print(\"Accuracy Score:\", accuracy_score(y_test, y_pred))\n",
    "\n",
    "\n",
    "submission = pd.DataFrame({\n",
    "    \"Predicted_Probability\": model.predict_proba(X_test)[:,1],\n",
    "    \"Predicted_Class\": model.predict(X_test)\n",
    "})\n",
    "submission.to_csv(\"Your_Full_Name_Submission.csv\", index=False)\n",
    "print(\"Submission file saved successfully.\")"
   ]
  },
  {
   "cell_type": "code",
   "execution_count": null,
   "id": "ce372e6b-e28e-4482-9488-ca5defff97eb",
   "metadata": {},
   "outputs": [],
   "source": []
  }
 ],
 "metadata": {
  "kernelspec": {
   "display_name": "Python 3 (ipykernel)",
   "language": "python",
   "name": "python3"
  },
  "language_info": {
   "codemirror_mode": {
    "name": "ipython",
    "version": 3
   },
   "file_extension": ".py",
   "mimetype": "text/x-python",
   "name": "python",
   "nbconvert_exporter": "python",
   "pygments_lexer": "ipython3",
   "version": "3.12.7"
  }
 },
 "nbformat": 4,
 "nbformat_minor": 5
}
